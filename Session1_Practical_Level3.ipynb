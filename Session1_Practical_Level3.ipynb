{
  "nbformat": 4,
  "nbformat_minor": 0,
  "metadata": {
    "colab": {
      "name": "Session1_Practical_Level3.ipynb",
      "provenance": [],
      "authorship_tag": "ABX9TyMevK0i06cp+sY4TW+fpvxL",
      "include_colab_link": true
    },
    "kernelspec": {
      "name": "python3",
      "display_name": "Python 3"
    },
    "language_info": {
      "name": "python"
    }
  },
  "cells": [
    {
      "cell_type": "markdown",
      "metadata": {
        "id": "view-in-github",
        "colab_type": "text"
      },
      "source": [
        "<a href=\"https://colab.research.google.com/github/mounakacimi/study_path/blob/main/Session1_Practical_Level3.ipynb\" target=\"_parent\"><img src=\"https://colab.research.google.com/assets/colab-badge.svg\" alt=\"Open In Colab\"/></a>"
      ]
    },
    {
      "cell_type": "markdown",
      "source": [
        "# Session1: Practical - Level3 \n",
        "\n",
        "In this practical session, you are going to use what we have leared during the lecture to perform specific tasks. You are going to use a csv file that is familiar to you **\"Session1_ExportAnnotations.csv\"** whihc you can download from the shared drive of the study path https://drive.google.com/drive/folders/1XuFtokZD3BfQJyt455O9c-XxcZ7mizqW?usp=sharing\n",
        "\n",
        "## <font color='blue'>Guidelines</font>\n",
        "\n",
        "1. Create your own Jupyter Notebook, write your solution, the file will be automatically stored on your Google Drive\n",
        "\n",
        "2. Once you are done, submit your solution in the shared folder of the study path (link above)\n",
        "\n",
        "3. If you do not see any updates on your notebook for whatever reason, do **\"disconnect and delete runtime\"** in the additional connection options (up right corner). Then **re-run everything**. \n",
        "\n",
        "4. You can find the documentation about all DataFrame functions in: \n",
        "https://pandas.pydata.org/docs/reference/api/pandas.DataFrame.html \n",
        "\n",
        "## <font color='blue'>Tasks to be performed</font>\n",
        "\n",
        "1.  Load the file  \"Session1_ExportAnnotations.csv\" into a DataFrame\n",
        "\n",
        "2. Observe the data and understand how you can query it in a way that help your analysis\n",
        "\n",
        "3.  Take a look at the documentation of DataFrame given in the above link and try some new functions.\n",
        "\n",
        "4. Immagine you want to select a random set of reviews from the csv file based on some specific criteria. How would you achieve that using the functions of the DataFrame\n",
        "\n"
      ],
      "metadata": {
        "id": "lfFIrZ64SmPl"
      }
    }
  ]
}