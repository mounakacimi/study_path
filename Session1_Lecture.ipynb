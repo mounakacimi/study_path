{
  "nbformat": 4,
  "nbformat_minor": 0,
  "metadata": {
    "colab": {
      "name": "Study_Path.ipynb",
      "provenance": [],
      "collapsed_sections": [],
      "mount_file_id": "https://github.com/mounakacimi/study_path/blob/main/Session1_Lecture.ipynb",
      "authorship_tag": "ABX9TyMBAepht4juy69dOPlYSM3J",
      "include_colab_link": true
    },
    "kernelspec": {
      "name": "python3",
      "display_name": "Python 3"
    },
    "language_info": {
      "name": "python"
    }
  },
  "cells": [
    {
      "cell_type": "markdown",
      "metadata": {
        "id": "view-in-github",
        "colab_type": "text"
      },
      "source": [
        "<a href=\"https://colab.research.google.com/github/mounakacimi/study_path/blob/main/Session1_Lecture.ipynb\" target=\"_parent\"><img src=\"https://colab.research.google.com/assets/colab-badge.svg\" alt=\"Open In Colab\"/></a>"
      ]
    },
    {
      "cell_type": "markdown",
      "source": [
        "# **<font color='blue'>Session 1: Working with a CSV File</font>**\n",
        "\n",
        "The goal of this session is to have a **first idea** about how a **computer program** is able to to **manipulate a given input** and perform tasks on it. Generally, the input given to the cpmputer can be of any type, but in this session we are going to **focus on CSV files** and learn:\n",
        "1.  **how they are loaded** \n",
        "2.  in which **data structure** they are stored\n",
        "3.  how they can be queried to **perform various operations** that can help us to speed up our daily tasks"
      ],
      "metadata": {
        "id": "We7D7svkjxOq"
      }
    },
    {
      "cell_type": "markdown",
      "source": [
        "## **1. Know where your file is located**\n",
        "\n",
        "The first thing you need to know is **where your file is located**. The file can be stored on your local computer, on your Google Drive, or it can be on any remote repository on the Internet. So you need to know the **path** to the file.  \n",
        "\n",
        "## Google Drive \n",
        "\n",
        "If your file is located in your Google Drive, you need first to connect the jupyter notebook to the you Drive. Then get the path of your file by right click on its name that would appear on the letf side bar of your notebook. \n",
        "\n",
        "## Github Repository\n",
        "\n",
        "For example, I am using my github repository https://github.com/mounakacimi/study_path\n",
        "\n",
        "As a rule, to be able to access a repository you need to clone it locally. To perform this action, use the command **! git clone** followed by **the url of the repository** as shown in the below cell: \n",
        "\n"
      ],
      "metadata": {
        "id": "r8pBsjMlpPBz"
      }
    },
    {
      "cell_type": "code",
      "source": [
        "! git clone https://github.com/mounakacimi/study_path.git\n"
      ],
      "metadata": {
        "id": "Mc3NoFdZnCKd"
      },
      "execution_count": null,
      "outputs": []
    },
    {
      "cell_type": "markdown",
      "source": [
        "## **2. Load your file into a Data Structure**\n",
        "\n",
        "**CSV files** are typically loaded into a **DataFrame**, a **data structure** provided by the **pandas library**. DataFrames are powrful data stcrutues widely used in **Data Science**. They allow to perform a various number of operations as we are going to see in this session. \n",
        "\n",
        "\n",
        "Practically, you need to follow the below steps:\n",
        "\n",
        "\n",
        "*   **import** the **pandas** library and give it a name, for example: **name \"pd\"**)\n",
        "*   use the pandas function **read_csv** which reads the input csv file and put it a DataFrame. You should give a name to the DataFrame, for example: **annotations**\n",
        "\n",
        "\n",
        "\n",
        "\n",
        "\n",
        "\n",
        "\n"
      ],
      "metadata": {
        "id": "9Vznbk3NuvKh"
      }
    },
    {
      "cell_type": "code",
      "execution_count": 2,
      "metadata": {
        "id": "aBlhI-DHi9RJ"
      },
      "outputs": [],
      "source": [
        "import pandas\n",
        "\n",
        "annotations = pandas.read_csv(\"study_path/Session1_SmallDataset.csv\")\n"
      ]
    },
    {
      "cell_type": "markdown",
      "source": [
        "## **3. Understand your Data Structure**\n",
        "\n",
        "In this section, we are going to see the **basic functions** that help you **undetstand the structure of the DataFrame** and have a look at its content which was extracted from the oinput csv file. \n",
        "\n",
        "\n",
        "### **3.1 How does it look like?**\n",
        "\n",
        "Recall that the **DataFrame** contains the **input csv file**. To have an idea about its structure, you can use the function **head()** which displays the first 5 rows of the DataFrame "
      ],
      "metadata": {
        "id": "hwd5STVRdwPX"
      }
    },
    {
      "cell_type": "code",
      "source": [
        "annotations.head()"
      ],
      "metadata": {
        "id": "sqv8aC_Wp17h"
      },
      "execution_count": null,
      "outputs": []
    },
    {
      "cell_type": "markdown",
      "source": [
        "If you want to see the last 5 rows, you can use the function **tail()**"
      ],
      "metadata": {
        "id": "bR2u-pChadiu"
      }
    },
    {
      "cell_type": "code",
      "source": [
        "annotations.tail()"
      ],
      "metadata": {
        "id": "P4dyJ1z5p_M0"
      },
      "execution_count": null,
      "outputs": []
    },
    {
      "cell_type": "markdown",
      "source": [
        "### **3.2 How to select a certain number of rows?**\n",
        "\n",
        "If you want to select a **specific number of rows**, it is enough to give it as an **input to the head function**. "
      ],
      "metadata": {
        "id": "WUXAbDmaauqW"
      }
    },
    {
      "cell_type": "code",
      "source": [
        "annotations.head(20)"
      ],
      "metadata": {
        "id": "fnIdRz1CqIVq"
      },
      "execution_count": null,
      "outputs": []
    },
    {
      "cell_type": "markdown",
      "source": [
        "### **3.3 How to select a random number of rows?**\n",
        "\n",
        "To select a random number of rows, you need to your the function sample(),as follows:"
      ],
      "metadata": {
        "id": "QYmjdk1pEG6X"
      }
    },
    {
      "cell_type": "code",
      "source": [
        "annotations.sample(10)"
      ],
      "metadata": {
        "id": "Scy-mWD5Eg3J"
      },
      "execution_count": null,
      "outputs": []
    },
    {
      "cell_type": "markdown",
      "source": [
        "### **3.4 How to select specific columns?**\n",
        "\n",
        "To select specific rows of the DataFrame, you need to specify their names between **[]**. You can store the result of your selection i a new DataFrame. "
      ],
      "metadata": {
        "id": "5h5W-R9PbRTn"
      }
    },
    {
      "cell_type": "code",
      "source": [
        "selection=annotations['related_sentence']\n",
        "selection.head()"
      ],
      "metadata": {
        "id": "nU7sUOzXqQ2S"
      },
      "execution_count": null,
      "outputs": []
    },
    {
      "cell_type": "markdown",
      "source": [
        "### **3.4 How to store a selected DataFrame on your Drive** \n",
        "\n",
        "In the following example, we select only the rows of the **predicted_topic** and store that in a file called **\"selection.csv\"**"
      ],
      "metadata": {
        "id": "5BRVy50ScacD"
      }
    },
    {
      "cell_type": "code",
      "source": [
        "selection=annotations.sample(20)\n",
        "\n",
        "selection.to_csv(\"/content/drive/MyDrive/Colab Notebooks/odilia.csv\")"
      ],
      "metadata": {
        "id": "PXNjvBmgqgo1"
      },
      "execution_count": 10,
      "outputs": []
    },
    {
      "cell_type": "markdown",
      "source": [
        "## **4. Interact with your Data Structure**\n",
        "\n",
        "The **DataFrame** data structure offers a wide range of functions that help you perform many tasks like searching a specifc content, sorting information, selecting random entries, and many more interesting tasks. "
      ],
      "metadata": {
        "id": "btQ0xpymcQzb"
      }
    },
    {
      "cell_type": "markdown",
      "source": [
        "### **4.1 Search rows containing a given input information of type String**\n",
        "\n",
        "To search for rows that contain a specific token (e.g., words) use the following function. \n",
        "\n",
        "**Example**: look for rows that contain the word  \"money\""
      ],
      "metadata": {
        "id": "x0vlCIhF1MYf"
      }
    },
    {
      "cell_type": "code",
      "source": [
        "query_result=annotations[annotations['related_sentence'].str.contains('money')]\n",
        "\n",
        "query_result"
      ],
      "metadata": {
        "id": "HJhMR8px1zZn"
      },
      "execution_count": null,
      "outputs": []
    },
    {
      "cell_type": "markdown",
      "source": [
        "### **4.2 Search rows that do not contain a given input information of type String**\n",
        "\n",
        "To search for rows that contain a specific token (e.g., words) use the following function. \n",
        "\n",
        "**Example**: look for rows that do not contain the word  \"money\""
      ],
      "metadata": {
        "id": "306kwIw16bmX"
      }
    },
    {
      "cell_type": "code",
      "source": [
        "query_result=annotations[~annotations['related_sentence'].str.contains('money')]\n",
        "\n",
        "query_result"
      ],
      "metadata": {
        "id": "86T83tR76aRz"
      },
      "execution_count": null,
      "outputs": []
    },
    {
      "cell_type": "markdown",
      "source": [
        "### **4.3 Search rows containing a given input information of type String (disjuntive mode)**\n",
        "\n",
        "To search for rows that contain one of a list of tokens (e.g., words) use the following function. \n",
        "\n",
        "**Example**: look for rows that contain both \"money\" **or** \"product\""
      ],
      "metadata": {
        "id": "J7_Rqf8tINtS"
      }
    },
    {
      "cell_type": "code",
      "source": [
        "query_result=annotations[~annotations['related_sentence'].str.contains('money | product')]\n",
        "\n",
        "query_result"
      ],
      "metadata": {
        "id": "6zRXt2yxcDsk"
      },
      "execution_count": null,
      "outputs": []
    },
    {
      "cell_type": "markdown",
      "source": [
        "### **4.4 Search rows that do not contain a given input information of type String (disjuntive mode)** ### \n",
        "\n",
        "To search for rows that do not contain one of a list of tokens (e.g., words) use the following function. \n",
        "\n",
        "**Example**: look for rows that do not contain both \"money\" **or** \"product\""
      ],
      "metadata": {
        "id": "OI14JZhCIdEM"
      }
    },
    {
      "cell_type": "code",
      "source": [
        "query_result=annotations[~annotations['related_sentence'].str.contains('money')]\n",
        "\n",
        "query_result=query_result[~query_result['related_sentence'].str.contains('product')]\n",
        "\n",
        "query_result"
      ],
      "metadata": {
        "id": "OixEwAZ_I2W2"
      },
      "execution_count": null,
      "outputs": []
    },
    {
      "cell_type": "markdown",
      "source": [
        "### **4.5 Search rows containing a given input information of type String (conjunctive mode)**\n",
        "\n",
        "There is an effcient way to perform this task in one line of code. But since we did not learn yet what is needed to do it, we will implement this task as a pipeline: \n",
        "\n",
        "1- First you look for rows that contain the first token and you store the result in a DataFrame\n",
        "\n",
        "2- Then you use the result of the previous step to search for rows that contain the seond token and so on. \n",
        "\n",
        "**Example**: look for rows that contain both \"money\" **and** \"product\"\n",
        "\n"
      ],
      "metadata": {
        "id": "Qhub3wVELhHp"
      }
    },
    {
      "cell_type": "code",
      "source": [
        "query_result=annotations[annotations['related_sentence'].str.contains('money')]\n",
        "\n",
        "query_result=query_result[query_result['related_sentence'].str.contains('product')]\n",
        "\n",
        "query_result"
      ],
      "metadata": {
        "id": "RXu2RnwFMU3O"
      },
      "execution_count": null,
      "outputs": []
    },
    {
      "cell_type": "markdown",
      "source": [
        "\n",
        "### **4.6 Search rows that do not contain a given input information of type String (conjunctive mode)**\n",
        "\n",
        "The same comment as before, we will implement this task as a pipeline:\n",
        "1- First you look for rows that do not contain the first token and you store the result in a DataFrame\n",
        "2- Then you use the result of the previous step to search for rows that do not contain the seond token and so on.\n",
        "Example: look for rows that do not contain both \"money\" and \"product\""
      ],
      "metadata": {
        "id": "naSRJlV4NzTY"
      }
    },
    {
      "cell_type": "code",
      "source": [
        "query_result=annotations[~annotations['related_sentence'].str.contains('money')]\n",
        "\n",
        "query_result=query_result[~query_result['related_sentence'].str.contains('product')]\n",
        "\n",
        "query_result"
      ],
      "metadata": {
        "id": "Y3SWiwIqOJXl"
      },
      "execution_count": null,
      "outputs": []
    },
    {
      "cell_type": "markdown",
      "source": [
        "### **4.7 Search rows that contain a given input value**"
      ],
      "metadata": {
        "id": "_hqRe1K3D_SY"
      }
    },
    {
      "cell_type": "code",
      "source": [
        "query_result=annotations[annotations['predicted_sentiment']==0]\n",
        "\n",
        "query_result"
      ],
      "metadata": {
        "id": "y3-RsdFxEFTD"
      },
      "execution_count": null,
      "outputs": []
    },
    {
      "cell_type": "markdown",
      "source": [
        "### **4.8 Search rows that do not contain a given input value**"
      ],
      "metadata": {
        "id": "anzD7l8AEe_R"
      }
    },
    {
      "cell_type": "code",
      "source": [
        "query_result=annotations[annotations['predicted_sentiment']!=0]\n",
        "\n",
        "query_result"
      ],
      "metadata": {
        "id": "Umy34_1cEw5D"
      },
      "execution_count": null,
      "outputs": []
    }
  ]
}