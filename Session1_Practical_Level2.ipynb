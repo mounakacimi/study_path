{
  "nbformat": 4,
  "nbformat_minor": 0,
  "metadata": {
    "colab": {
      "name": "Session1_Practical_Level2.ipynb",
      "provenance": [],
      "collapsed_sections": [],
      "authorship_tag": "ABX9TyM8MdjD8WqELYtK3RRDR31w",
      "include_colab_link": true
    },
    "kernelspec": {
      "name": "python3",
      "display_name": "Python 3"
    },
    "language_info": {
      "name": "python"
    }
  },
  "cells": [
    {
      "cell_type": "markdown",
      "metadata": {
        "id": "view-in-github",
        "colab_type": "text"
      },
      "source": [
        "<a href=\"https://colab.research.google.com/github/mounakacimi/study_path/blob/main/Session1_Practical_Level2.ipynb\" target=\"_parent\"><img src=\"https://colab.research.google.com/assets/colab-badge.svg\" alt=\"Open In Colab\"/></a>"
      ]
    },
    {
      "cell_type": "markdown",
      "source": [
        "# Session1: Practical - Level2 \n",
        "\n",
        "In this practical session, you are going to use what we have leared during the lecture to perform specific tasks. You are going to use **LargeDataset.csv** file which contains the results of the **Full Sematic Search** on **Male Grooming**\n",
        "\n",
        "## <font color='blue'>Guidelines</font>\n",
        "\n",
        "1. Create your own Jupyter Notebook, write your solution, the file will be automatically stored on your Google Drive\n",
        "\n",
        "2. Once you are done, submit your solution in the shared folder of the study path https://drive.google.com/drive/folders/1XuFtokZD3BfQJyt455O9c-XxcZ7mizqW?usp=sharing \n",
        "\n",
        "3. If you do not see any updates on your notebook for whatever reason, do **\"disconnect and delete runtime\"** in the additional connection options (up right corner). Then **re-run everything**. \n",
        "\n",
        "4. You can find the documentation about all DataFrame functions in: \n",
        "https://pandas.pydata.org/docs/reference/api/pandas.DataFrame.html \n",
        " \n",
        "\n",
        "## <font color='blue'>Tasks to be performed</font>\n",
        "\n",
        "1.   Load the file  LargeDataset.csv into a DataFrame\n",
        "\n",
        "2.   Remove all duplicated opinion expressions that have the same topic and the same sentiment. Hint use the function: drop_duplicates()\n",
        "\n",
        "3.   Assume you noticed that negations are not properly handeled: for example the opinion expression \"It does not work\" is annotated as positive. So, you want to find other opinion expressions that contain negations but still annotated as positive. How can you use the functions we have learned to acheive this task? Hint: think about some words that indicate negations. \n",
        "\n",
        " \n",
        "\n"
      ],
      "metadata": {
        "id": "Q-1IBFDMeDVR"
      }
    }
  ]
}