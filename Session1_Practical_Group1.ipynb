{
  "nbformat": 4,
  "nbformat_minor": 0,
  "metadata": {
    "colab": {
      "name": "First_Practical_Session_Level1.ipynb",
      "provenance": [],
      "toc_visible": true,
      "authorship_tag": "ABX9TyPC9s2YtN29ZxBnkA1u7PiR",
      "include_colab_link": true
    },
    "kernelspec": {
      "name": "python3",
      "display_name": "Python 3"
    },
    "language_info": {
      "name": "python"
    }
  },
  "cells": [
    {
      "cell_type": "markdown",
      "metadata": {
        "id": "view-in-github",
        "colab_type": "text"
      },
      "source": [
        "<a href=\"https://colab.research.google.com/github/mounakacimi/study_path/blob/main/First_Practical_Session_Level1.ipynb\" target=\"_parent\"><img src=\"https://colab.research.google.com/assets/colab-badge.svg\" alt=\"Open In Colab\"/></a>"
      ]
    },
    {
      "cell_type": "markdown",
      "source": [
        "# First_Practical_Session_Level1\n",
        "\n",
        "In this practiocal session you are going to use what we have leared to perform specific tasks. For this session you are going to use the file "
      ],
      "metadata": {
        "id": "qevpT_s_tHd6"
      }
    },
    {
      "cell_type": "code",
      "execution_count": null,
      "metadata": {
        "id": "jMyv8yo6tGH7"
      },
      "outputs": [],
      "source": [
        ""
      ]
    }
  ]
}
