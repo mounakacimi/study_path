{
  "nbformat": 4,
  "nbformat_minor": 0,
  "metadata": {
    "colab": {
      "name": "Session1_Practical_Group1.ipynb",
      "provenance": [],
      "authorship_tag": "ABX9TyPwLVJ9kLWs1Rxe6NzQ06+t",
      "include_colab_link": true
    },
    "kernelspec": {
      "name": "python3",
      "display_name": "Python 3"
    },
    "language_info": {
      "name": "python"
    }
  },
  "cells": [
    {
      "cell_type": "markdown",
      "metadata": {
        "id": "view-in-github",
        "colab_type": "text"
      },
      "source": [
        "<a href=\"https://colab.research.google.com/github/mounakacimi/study_path/blob/main/Session1_Practical_Group1.ipynb\" target=\"_parent\"><img src=\"https://colab.research.google.com/assets/colab-badge.svg\" alt=\"Open In Colab\"/></a>"
      ]
    },
    {
      "cell_type": "code",
      "source": [
        "! git clone https://github.com/mounakacimi/study_path.git"
      ],
      "metadata": {
        "colab": {
          "base_uri": "https://localhost:8080/"
        },
        "id": "NNurr2yIisRg",
        "outputId": "66a9ce5b-5cc6-4340-d97b-f3d10fc215a2"
      },
      "execution_count": 1,
      "outputs": [
        {
          "output_type": "stream",
          "name": "stdout",
          "text": [
            "Cloning into 'study_path'...\n",
            "remote: Enumerating objects: 73, done.\u001b[K\n",
            "remote: Counting objects: 100% (73/73), done.\u001b[K\n",
            "remote: Compressing objects: 100% (67/67), done.\u001b[K\n",
            "remote: Total 73 (delta 31), reused 0 (delta 0), pack-reused 0\u001b[K\n",
            "Unpacking objects: 100% (73/73), done.\n"
          ]
        }
      ]
    },
    {
      "cell_type": "markdown",
      "source": [
        "# Session1: Practical - Group1 \n",
        "\n",
        "In this practical session you are going to use what we have leared during the lecture to perform specific tasks. You are going to use ** LargeDataset.csv** file which contains the results of the **Full Sematic Search ** on **Male Grooming**"
      ],
      "metadata": {
        "id": "riebEDghh2iy"
      }
    },
    {
      "cell_type": "code",
      "source": [
        ""
      ],
      "metadata": {
        "id": "SAo38n97irK8"
      },
      "execution_count": null,
      "outputs": []
    }
  ]
}