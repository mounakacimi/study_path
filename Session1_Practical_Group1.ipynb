{
  "nbformat": 4,
  "nbformat_minor": 0,
  "metadata": {
    "colab": {
      "name": "First_Practical_Session_Level1.ipynb",
      "provenance": [],
      "include_colab_link": true
    },
    "kernelspec": {
      "name": "python3",
      "display_name": "Python 3"
    },
    "language_info": {
      "name": "python"
    }
  },
  "cells": [
    {
      "cell_type": "markdown",
      "metadata": {
        "id": "view-in-github",
        "colab_type": "text"
      },
      "source": [
        "<a href=\"https://colab.research.google.com/github/mounakacimi/study_path/blob/main/Session1_Practical_Group1.ipynb\" target=\"_parent\"><img src=\"https://colab.research.google.com/assets/colab-badge.svg\" alt=\"Open In Colab\"/></a>"
      ]
    },
    {
      "cell_type": "markdown",
      "source": [
        "# Session1: Practical \n",
        "\n",
        "In this practical session you are going to use what we have leared during the lecture to perform specific tasks. You are going to use ** LargeDataset.csv** file which contains the results of the **Full Sematic Search ** on **Male Grooming**"
      ],
      "metadata": {
        "id": "qevpT_s_tHd6"
      }
    },
    {
      "cell_type": "code",
      "execution_count": null,
      "metadata": {
        "id": "jMyv8yo6tGH7"
      },
      "outputs": [],
      "source": [
        ""
      ]
    }
  ]
}