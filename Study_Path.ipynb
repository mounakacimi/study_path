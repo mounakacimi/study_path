{
  "nbformat": 4,
  "nbformat_minor": 0,
  "metadata": {
    "colab": {
      "name": "Study_Path.ipynb",
      "provenance": [],
      "collapsed_sections": [],
      "authorship_tag": "ABX9TyNjx+FvdxMau12jiLjywe5H",
      "include_colab_link": true
    },
    "kernelspec": {
      "name": "python3",
      "display_name": "Python 3"
    },
    "language_info": {
      "name": "python"
    }
  },
  "cells": [
    {
      "cell_type": "markdown",
      "metadata": {
        "id": "view-in-github",
        "colab_type": "text"
      },
      "source": [
        "<a href=\"https://colab.research.google.com/github/mounakacimi/study_path/blob/main/Study_Path.ipynb\" target=\"_parent\"><img src=\"https://colab.research.google.com/assets/colab-badge.svg\" alt=\"Open In Colab\"/></a>"
      ]
    },
    {
      "cell_type": "markdown",
      "source": [
        "# **<font color='blue'>Short-Term Study Path: Session 1</font>**\n",
        "\n",
        "The goal of this session is to have a **first idea** about how a **computer program** is able to to **manipulate a given input** and perform tasks on it. Generally, the input given to the cpmputer can be of any type, but in this session we are going to **focus on CSV files** and learn:\n",
        "1.  **how they are loaded** \n",
        "2.  in which **data structure** they are stored\n",
        "3.  how they can be queried to **perform various operations** that can help us to speed up our daily tasks"
      ],
      "metadata": {
        "id": "We7D7svkjxOq"
      }
    },
    {
      "cell_type": "markdown",
      "source": [
        "## **1. Know where your file is located**\n",
        "\n",
        "The first thing you need to know is **where your file is located**. The file can be stored on your local computer, on your Google Drive, or it can be on any remote repository on the Internet. \n",
        "\n",
        "\n",
        "For example, I am putting all the files of this study path on **my Github repository**. I made it public so all of you can access it without the need of a password. You can also have your own repository but if you are not ready for that step you can simply use my repository here: \n",
        "https://github.com/mounakacimi/study_path\n",
        "\n",
        "As a rule, to be able to access a repository you need to clone it locally. To perform this action (**only once**), use the command **! git clone** followed by **the url of the repository** as shown in the below cell: "
      ],
      "metadata": {
        "id": "r8pBsjMlpPBz"
      }
    },
    {
      "cell_type": "code",
      "source": [
        "! git clone https://github.com/mounakacimi/study_path.git\n"
      ],
      "metadata": {
        "id": "Mc3NoFdZnCKd"
      },
      "execution_count": null,
      "outputs": []
    },
    {
      "cell_type": "markdown",
      "source": [
        "## **2. Load your file into a Data Structure**\n",
        "\n",
        "**CSV files** are typically loaded into a **DataFrame**, a **data structure** provided by the **pandas library**. DataFrames are powrful data stcrutues widely used in **Data Science**. They allow to perform a various number of operations as we are going to see in this session. \n",
        "\n",
        "\n",
        "Practically, you need to follow the below steps:\n",
        "\n",
        "\n",
        "*   **import** the **pandas** library and give it a name, for example: **name \"pd\"**)\n",
        "*   use the pandas function **read_csv** which reads the input csv file and put it a DataFrame. You should give a name to the DataFrame, for example: **annotations**\n",
        "\n",
        "\n",
        "\n",
        "\n",
        "\n",
        "\n",
        "\n"
      ],
      "metadata": {
        "id": "9Vznbk3NuvKh"
      }
    },
    {
      "cell_type": "code",
      "execution_count": null,
      "metadata": {
        "id": "aBlhI-DHi9RJ"
      },
      "outputs": [],
      "source": [
        "import pandas as pd\n",
        "\n",
        "annotations=pd.read_csv(\"study_path/FASS.csv\")\n"
      ]
    },
    {
      "cell_type": "markdown",
      "source": [
        "## **3. Understand your Data Structure**\n",
        "\n",
        "In this section, we are going to see the **basic functions** that help you **undetstand the structure of the DataFrame** and have a look at its content whihc was extracted from the oinput csv file. \n",
        "\n",
        "\n",
        "### **3.1 How does it look like?**\n",
        "\n",
        "Recall that the **DataFrame** contains the **input csv file**. To have an idea about its structure, you can use the function **head()** which displays the first 5 rows of the DataFrame "
      ],
      "metadata": {
        "id": "hwd5STVRdwPX"
      }
    },
    {
      "cell_type": "code",
      "source": [
        "annotations.head()"
      ],
      "metadata": {
        "id": "sqv8aC_Wp17h"
      },
      "execution_count": null,
      "outputs": []
    },
    {
      "cell_type": "markdown",
      "source": [
        "If you want to see the last 5 rows, you can use the function **tail()**"
      ],
      "metadata": {
        "id": "bR2u-pChadiu"
      }
    },
    {
      "cell_type": "code",
      "source": [
        "annotations.tail()"
      ],
      "metadata": {
        "id": "P4dyJ1z5p_M0"
      },
      "execution_count": null,
      "outputs": []
    },
    {
      "cell_type": "markdown",
      "source": [
        "### **3.2 How to select a certain number of rows?**\n",
        "\n",
        "If you want to select a **specific number of rows**, it is enough to give it as an **input to the head function**. "
      ],
      "metadata": {
        "id": "WUXAbDmaauqW"
      }
    },
    {
      "cell_type": "code",
      "source": [
        "annotations.head(50)"
      ],
      "metadata": {
        "id": "fnIdRz1CqIVq"
      },
      "execution_count": null,
      "outputs": []
    },
    {
      "cell_type": "markdown",
      "source": [
        "### **3.3 How to select specific columns?**\n",
        "\n",
        "To select specific rows of the DataFrame, you need to specify their names between **[]**. You can store the result of your selection i a new DataFrame. "
      ],
      "metadata": {
        "id": "5h5W-R9PbRTn"
      }
    },
    {
      "cell_type": "code",
      "source": [
        "selection=annotations['related_sentence']"
      ],
      "metadata": {
        "colab": {
          "base_uri": "https://localhost:8080/"
        },
        "id": "nU7sUOzXqQ2S",
        "outputId": "ba16eaa4-b172-454b-bdf2-68a1a5a9a67b"
      },
      "execution_count": null,
      "outputs": [
        {
          "output_type": "execute_result",
          "data": {
            "text/plain": [
              "0                              Value for money...\n",
              "1                              value for money...\n",
              "2                                  worst product.\n",
              "3                                  Waste of money\n",
              "4                                          use it\n",
              "                         ...                     \n",
              "94    Stopped working after using it a few times.\n",
              "95                  Best beard trimmer I've used.\n",
              "96                        Broke within two weeks.\n",
              "97                     worst trimmer I ever used.\n",
              "98                     Worst trimmer I ever used.\n",
              "Name: related_sentence, Length: 99, dtype: object"
            ]
          },
          "metadata": {},
          "execution_count": 48
        }
      ]
    },
    {
      "cell_type": "markdown",
      "source": [
        "## **3.4 How to store a selected DataFrame on the repositor**y \n",
        "\n",
        "In the following example, we select only the rows of the **predicted_topic** and store that in a file called **\"selection.csv\"**"
      ],
      "metadata": {
        "id": "5BRVy50ScacD"
      }
    },
    {
      "cell_type": "code",
      "source": [
        "selection=annotations['predicted_topic']\n",
        "\n",
        "selection.to_csv(\"study_path/selection.csv\")"
      ],
      "metadata": {
        "id": "PXNjvBmgqgo1"
      },
      "execution_count": null,
      "outputs": []
    },
    {
      "cell_type": "markdown",
      "source": [
        "## **4. Interact with your Data Structure**\n",
        "\n",
        "The **DataFrame** data structure offers a wide range of functions that help you perform many tasks like searching a specifc content, sorting information, selecting random entries, and many more interesting tasks. "
      ],
      "metadata": {
        "id": "btQ0xpymcQzb"
      }
    },
    {
      "cell_type": "code",
      "source": [
        "query_result=annotations[annotations['related_sentence'].str.contains('money | product')]\n",
        "\n",
        "query_result"
      ],
      "metadata": {
        "colab": {
          "base_uri": "https://localhost:8080/",
          "height": 297
        },
        "id": "6zRXt2yxcDsk",
        "outputId": "2a53ed85-3984-4126-e896-4465f21b3708"
      },
      "execution_count": null,
      "outputs": [
        {
          "output_type": "execute_result",
          "data": {
            "text/plain": [
              "                       related_sentence predicted_topic  predicted_sentiment\n",
              "2                        worst product.           Value                    0\n",
              "7                        Worst product.           Value                    0\n",
              "31                       Super product.           Value                    1\n",
              "40                    Great product ...           Value                    1\n",
              "41  I am very happy to use this product           Value                    1\n",
              "46         Nice product Thanks Flipkart           Value                    1\n",
              "61                       Awsm product..           Value                    1\n",
              "62       Nice product.. Value for money           Value                    1"
            ],
            "text/html": [
              "\n",
              "  <div id=\"df-715e425d-48e5-4bb9-88fc-f1265bd31a62\">\n",
              "    <div class=\"colab-df-container\">\n",
              "      <div>\n",
              "<style scoped>\n",
              "    .dataframe tbody tr th:only-of-type {\n",
              "        vertical-align: middle;\n",
              "    }\n",
              "\n",
              "    .dataframe tbody tr th {\n",
              "        vertical-align: top;\n",
              "    }\n",
              "\n",
              "    .dataframe thead th {\n",
              "        text-align: right;\n",
              "    }\n",
              "</style>\n",
              "<table border=\"1\" class=\"dataframe\">\n",
              "  <thead>\n",
              "    <tr style=\"text-align: right;\">\n",
              "      <th></th>\n",
              "      <th>related_sentence</th>\n",
              "      <th>predicted_topic</th>\n",
              "      <th>predicted_sentiment</th>\n",
              "    </tr>\n",
              "  </thead>\n",
              "  <tbody>\n",
              "    <tr>\n",
              "      <th>2</th>\n",
              "      <td>worst product.</td>\n",
              "      <td>Value</td>\n",
              "      <td>0</td>\n",
              "    </tr>\n",
              "    <tr>\n",
              "      <th>7</th>\n",
              "      <td>Worst product.</td>\n",
              "      <td>Value</td>\n",
              "      <td>0</td>\n",
              "    </tr>\n",
              "    <tr>\n",
              "      <th>31</th>\n",
              "      <td>Super product.</td>\n",
              "      <td>Value</td>\n",
              "      <td>1</td>\n",
              "    </tr>\n",
              "    <tr>\n",
              "      <th>40</th>\n",
              "      <td>Great product ...</td>\n",
              "      <td>Value</td>\n",
              "      <td>1</td>\n",
              "    </tr>\n",
              "    <tr>\n",
              "      <th>41</th>\n",
              "      <td>I am very happy to use this product</td>\n",
              "      <td>Value</td>\n",
              "      <td>1</td>\n",
              "    </tr>\n",
              "    <tr>\n",
              "      <th>46</th>\n",
              "      <td>Nice product Thanks Flipkart</td>\n",
              "      <td>Value</td>\n",
              "      <td>1</td>\n",
              "    </tr>\n",
              "    <tr>\n",
              "      <th>61</th>\n",
              "      <td>Awsm product..</td>\n",
              "      <td>Value</td>\n",
              "      <td>1</td>\n",
              "    </tr>\n",
              "    <tr>\n",
              "      <th>62</th>\n",
              "      <td>Nice product.. Value for money</td>\n",
              "      <td>Value</td>\n",
              "      <td>1</td>\n",
              "    </tr>\n",
              "  </tbody>\n",
              "</table>\n",
              "</div>\n",
              "      <button class=\"colab-df-convert\" onclick=\"convertToInteractive('df-715e425d-48e5-4bb9-88fc-f1265bd31a62')\"\n",
              "              title=\"Convert this dataframe to an interactive table.\"\n",
              "              style=\"display:none;\">\n",
              "        \n",
              "  <svg xmlns=\"http://www.w3.org/2000/svg\" height=\"24px\"viewBox=\"0 0 24 24\"\n",
              "       width=\"24px\">\n",
              "    <path d=\"M0 0h24v24H0V0z\" fill=\"none\"/>\n",
              "    <path d=\"M18.56 5.44l.94 2.06.94-2.06 2.06-.94-2.06-.94-.94-2.06-.94 2.06-2.06.94zm-11 1L8.5 8.5l.94-2.06 2.06-.94-2.06-.94L8.5 2.5l-.94 2.06-2.06.94zm10 10l.94 2.06.94-2.06 2.06-.94-2.06-.94-.94-2.06-.94 2.06-2.06.94z\"/><path d=\"M17.41 7.96l-1.37-1.37c-.4-.4-.92-.59-1.43-.59-.52 0-1.04.2-1.43.59L10.3 9.45l-7.72 7.72c-.78.78-.78 2.05 0 2.83L4 21.41c.39.39.9.59 1.41.59.51 0 1.02-.2 1.41-.59l7.78-7.78 2.81-2.81c.8-.78.8-2.07 0-2.86zM5.41 20L4 18.59l7.72-7.72 1.47 1.35L5.41 20z\"/>\n",
              "  </svg>\n",
              "      </button>\n",
              "      \n",
              "  <style>\n",
              "    .colab-df-container {\n",
              "      display:flex;\n",
              "      flex-wrap:wrap;\n",
              "      gap: 12px;\n",
              "    }\n",
              "\n",
              "    .colab-df-convert {\n",
              "      background-color: #E8F0FE;\n",
              "      border: none;\n",
              "      border-radius: 50%;\n",
              "      cursor: pointer;\n",
              "      display: none;\n",
              "      fill: #1967D2;\n",
              "      height: 32px;\n",
              "      padding: 0 0 0 0;\n",
              "      width: 32px;\n",
              "    }\n",
              "\n",
              "    .colab-df-convert:hover {\n",
              "      background-color: #E2EBFA;\n",
              "      box-shadow: 0px 1px 2px rgba(60, 64, 67, 0.3), 0px 1px 3px 1px rgba(60, 64, 67, 0.15);\n",
              "      fill: #174EA6;\n",
              "    }\n",
              "\n",
              "    [theme=dark] .colab-df-convert {\n",
              "      background-color: #3B4455;\n",
              "      fill: #D2E3FC;\n",
              "    }\n",
              "\n",
              "    [theme=dark] .colab-df-convert:hover {\n",
              "      background-color: #434B5C;\n",
              "      box-shadow: 0px 1px 3px 1px rgba(0, 0, 0, 0.15);\n",
              "      filter: drop-shadow(0px 1px 2px rgba(0, 0, 0, 0.3));\n",
              "      fill: #FFFFFF;\n",
              "    }\n",
              "  </style>\n",
              "\n",
              "      <script>\n",
              "        const buttonEl =\n",
              "          document.querySelector('#df-715e425d-48e5-4bb9-88fc-f1265bd31a62 button.colab-df-convert');\n",
              "        buttonEl.style.display =\n",
              "          google.colab.kernel.accessAllowed ? 'block' : 'none';\n",
              "\n",
              "        async function convertToInteractive(key) {\n",
              "          const element = document.querySelector('#df-715e425d-48e5-4bb9-88fc-f1265bd31a62');\n",
              "          const dataTable =\n",
              "            await google.colab.kernel.invokeFunction('convertToInteractive',\n",
              "                                                     [key], {});\n",
              "          if (!dataTable) return;\n",
              "\n",
              "          const docLinkHtml = 'Like what you see? Visit the ' +\n",
              "            '<a target=\"_blank\" href=https://colab.research.google.com/notebooks/data_table.ipynb>data table notebook</a>'\n",
              "            + ' to learn more about interactive tables.';\n",
              "          element.innerHTML = '';\n",
              "          dataTable['output_type'] = 'display_data';\n",
              "          await google.colab.output.renderOutput(dataTable, element);\n",
              "          const docLink = document.createElement('div');\n",
              "          docLink.innerHTML = docLinkHtml;\n",
              "          element.appendChild(docLink);\n",
              "        }\n",
              "      </script>\n",
              "    </div>\n",
              "  </div>\n",
              "  "
            ]
          },
          "metadata": {},
          "execution_count": 43
        }
      ]
    },
    {
      "cell_type": "markdown",
      "source": [
        ""
      ],
      "metadata": {
        "id": "FXWIyCzFjIlu"
      }
    }
  ]
}