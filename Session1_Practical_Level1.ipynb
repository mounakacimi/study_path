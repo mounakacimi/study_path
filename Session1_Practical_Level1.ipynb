{
  "nbformat": 4,
  "nbformat_minor": 0,
  "metadata": {
    "colab": {
      "name": "Session1_Practical_Level1.ipynb",
      "provenance": [],
      "authorship_tag": "ABX9TyPh/H6ISY6V0heBJ60WWsjQ",
      "include_colab_link": true
    },
    "kernelspec": {
      "name": "python3",
      "display_name": "Python 3"
    },
    "language_info": {
      "name": "python"
    }
  },
  "cells": [
    {
      "cell_type": "markdown",
      "metadata": {
        "id": "view-in-github",
        "colab_type": "text"
      },
      "source": [
        "<a href=\"https://colab.research.google.com/github/mounakacimi/study_path/blob/main/Session1_Practical_Level1.ipynb\" target=\"_parent\"><img src=\"https://colab.research.google.com/assets/colab-badge.svg\" alt=\"Open In Colab\"/></a>"
      ]
    },
    {
      "cell_type": "markdown",
      "source": [
        "# Session1: Practical - Level1 \n",
        "\n",
        "In this practical session, you are going to use what we have leared during the lecture to perform specific tasks. You are going to use **LargeDataset.csv** file which contains the results of the **Full Sematic Search** on **Male Grooming**\n",
        "\n",
        "## <font color='blue'>Guidelines</font>\n",
        "\n",
        "1. Create your own Jupyter Notebook, write your solution, the file will be automatically stored on your Google Drive\n",
        "\n",
        "2. Once you are done, submit your solution in the shared folder of the study path https://drive.google.com/drive/folders/1XuFtokZD3BfQJyt455O9c-XxcZ7mizqW?usp=sharing \n",
        "\n",
        "3. If you do not see any updates on your notebook for whatever reason, do **\"disconnect and delete runtime\"** in the additional connection options (up right corner). Then **re-run everything**. \n",
        "\n",
        "4. You can find the documentation about all DataFrame functions in: \n",
        "https://pandas.pydata.org/docs/reference/api/pandas.DataFrame.html \n",
        "\n",
        "## <font color='blue'>Tasks to be performed</font>\n",
        "\n",
        "1.  Load the file  LargeDataset.csv into a DataFrame\n",
        "\n",
        "2.  Observe your DataFrame, how many rows does it contain, how many columns?\n",
        "\n",
        "3. How many topics are there?\n",
        "\n",
        "4. How many opinion expressions are of topic \"Battery\" and containing the word \"Big\"?\n",
        "\n",
        "5. How many opinion expressions are of topic \"Durability\" but do not contain the word \"last\"?\n",
        "\n",
        "6. How many opinion expressions of topic \"Price\" that have a negative sentiment? \n",
        "\n",
        "7. Make queries of your choice which can help spotting interesting patterns \n",
        "\n",
        "8. Which functions, among the one we have learned, could be helpful to speed up the quality check or any other task? how?\n",
        "\n",
        "\n",
        " \n",
        "\n"
      ],
      "metadata": {
        "id": "riebEDghh2iy"
      }
    }
  ]
}