{
  "nbformat": 4,
  "nbformat_minor": 0,
  "metadata": {
    "colab": {
      "name": "Session1_Practical_Group1.ipynb",
      "provenance": [],
      "collapsed_sections": [],
      "authorship_tag": "ABX9TyN6SPahpVbUA/n0nEeQ/Uyy",
      "include_colab_link": true
    },
    "kernelspec": {
      "name": "python3",
      "display_name": "Python 3"
    },
    "language_info": {
      "name": "python"
    }
  },
  "cells": [
    {
      "cell_type": "markdown",
      "metadata": {
        "id": "view-in-github",
        "colab_type": "text"
      },
      "source": [
        "<a href=\"https://colab.research.google.com/github/mounakacimi/study_path/blob/main/Session1_Practical_Level1.ipynb\" target=\"_parent\"><img src=\"https://colab.research.google.com/assets/colab-badge.svg\" alt=\"Open In Colab\"/></a>"
      ]
    },
    {
      "cell_type": "code",
      "source": [
        "! git clone https://github.com/mounakacimi/study_path.git"
      ],
      "metadata": {
        "colab": {
          "base_uri": "https://localhost:8080/"
        },
        "id": "NNurr2yIisRg",
        "outputId": "8ccaf614-ab2c-4f67-8cd0-cd1257b53efd"
      },
      "execution_count": 1,
      "outputs": [
        {
          "output_type": "stream",
          "name": "stdout",
          "text": [
            "Cloning into 'study_path'...\n",
            "remote: Enumerating objects: 100, done.\u001b[K\n",
            "remote: Counting objects: 100% (100/100), done.\u001b[K\n",
            "remote: Compressing objects: 100% (94/94), done.\u001b[K\n",
            "remote: Total 100 (delta 48), reused 0 (delta 0), pack-reused 0\u001b[K\n",
            "Receiving objects: 100% (100/100), 1.76 MiB | 4.11 MiB/s, done.\n",
            "Resolving deltas: 100% (48/48), done.\n"
          ]
        }
      ]
    },
    {
      "cell_type": "markdown",
      "source": [
        "# Session1: Practical - Group1 \n",
        "\n",
        "In this practical session, you are going to use what we have leared during the lecture to perform specific tasks. You are going to use **LargeDataset.csv** file which contains the results of the **Full Sematic Search** on **Male Grooming**\n",
        "\n",
        "## <font color='blue'>Guidelines</font>\n",
        "\n",
        "1. Create your own Jupyter Notebook, write your solution, give to your file a name, and commit it to the Github repository. \n",
        "\n",
        "2.  To be able to commit the file **do not forget to clone the repository** at the begining of your notebook.\n",
        "\n",
        "3.  To commit the notebook do: **File->save a copy in Github**\n",
        "\n",
        "\n",
        "4. It is recommended to do a commit after answring each question, so you do not loose the work you are doing if something happens and your brower craches \n",
        "\n",
        "5. If you do not see any updates on the repository after committing, for whatever reason, do **\"disconnect and delete runtime\"** in the additional connection options (up right corner). Then **re-clone the repository**. \n",
        "\n",
        "## <font color='blue'>Tasks to be performed</font>\n",
        "\n",
        "1.   Load the file  LargeDataset.csv into a DataFrame\n",
        "\n",
        "2.   Observe your DataFrame, how many rows does it contain, how many columns?\n",
        "\n",
        "3. How many topics are there?\n",
        "\n",
        "4. How many opinion expressions are of topic \"Battery\" and containing the word \"Big\"?\n",
        "\n",
        "5. How many opinion expressions are of topic \"Durability\" but do not contain the word \"last\"?\n",
        "\n",
        "6. How many opinion expressions of topic \"Price\" that have a negative sentiment? \n",
        "\n",
        "7. Make queries of your choice which can help spotting interesting patterns \n",
        "\n",
        "8. Which functions, among the one we have learned, could be helpful to speed up the quality check or any other task? how?\n",
        "\n",
        "\n",
        " \n",
        "\n"
      ],
      "metadata": {
        "id": "riebEDghh2iy"
      }
    },
    {
      "cell_type": "code",
      "source": [
        ""
      ],
      "metadata": {
        "id": "SAo38n97irK8"
      },
      "execution_count": null,
      "outputs": []
    },
    {
      "cell_type": "markdown",
      "source": [
        ""
      ],
      "metadata": {
        "id": "vlRY7zLuk0ua"
      }
    }
  ]
}